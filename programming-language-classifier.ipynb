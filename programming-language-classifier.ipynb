{
 "cells": [
  {
   "cell_type": "code",
   "execution_count": 1,
   "metadata": {
    "collapsed": false
   },
   "outputs": [],
   "source": [
    "import glob\n",
    "import pandas as pd\n",
    "import numpy as np\n",
    "from scipy import sparse\n",
    "from sklearn import svm\n",
    "from sklearn.svm import SVC\n",
    "from sklearn.feature_extraction.text import CountVectorizer\n",
    "from sklearn.feature_extraction.text import TfidfTransformer\n",
    "from sklearn.naive_bayes import MultinomialNB\n",
    "from sklearn.pipeline import Pipeline\n",
    "from sklearn.cross_validation import train_test_split"
   ]
  },
  {
   "cell_type": "code",
   "execution_count": 2,
   "metadata": {
    "collapsed": false
   },
   "outputs": [],
   "source": [
    "def read_code(directory, ftype):\n",
    "    files = glob.glob('{}/**/*.{}'.format(directory, ftype), recursive=True)\n",
    "    for fiyl in files:\n",
    "        y_file_type.append(ftype)\n",
    "        with open(fiyl) as f:\n",
    "            x_texts.append(f.read())\n",
    "\n",
    "\n",
    "x_texts = []\n",
    "y_file_type = []\n",
    "\n",
    "\n",
    "file_types = ['gcc', 'c', 'csharp', 'sbcl', 'clojure', 'java', 'javascript', 'ocaml', 'perl', 'hack', 'php', 'python3', 'jruby', 'yarv', 'scala', 'racket', 'ghc']\n",
    "\n",
    "for ft in file_types:\n",
    "    read_code('/Users/David/documents/tiy/programming-language-classifier/benchmarksgame-2014-08-31/benchmarksgame/bench/', ft)"
   ]
  },
  {
   "cell_type": "code",
   "execution_count": 3,
   "metadata": {
    "collapsed": false
   },
   "outputs": [],
   "source": [
    "pipeline_map = [\n",
    "                ('hashin', CountVectorizer()),\n",
    "                ('tfidf', TfidfTransformer()),\n",
    "                ('lin', svm.LinearSVC()),\n",
    "                ]"
   ]
  },
  {
   "cell_type": "code",
   "execution_count": 4,
   "metadata": {
    "collapsed": true
   },
   "outputs": [],
   "source": [
    "pipeline = Pipeline(pipeline_map)"
   ]
  },
  {
   "cell_type": "code",
   "execution_count": 5,
   "metadata": {
    "collapsed": false
   },
   "outputs": [],
   "source": [
    "X_train, X_test, y_train, y_test = train_test_split(\n",
    "    x_texts, y_file_type, test_size=0.4, random_state=1965)"
   ]
  },
  {
   "cell_type": "code",
   "execution_count": 6,
   "metadata": {
    "collapsed": false
   },
   "outputs": [
    {
     "name": "stdout",
     "output_type": "stream",
     "text": [
      "0.968571428571\n",
      "0.82905982906\n"
     ]
    }
   ],
   "source": [
    "pipeline.fit(X_train, y_train)\n",
    "\n",
    "print(pipeline.score(X_train, y_train))\n",
    "print(pipeline.score(X_test, y_test))"
   ]
  },
  {
   "cell_type": "code",
   "execution_count": 7,
   "metadata": {
    "collapsed": true
   },
   "outputs": [],
   "source": [
    "bryce_tests = ['clojure', 'clojure', 'clojure', 'clojure','python3', 'python3',\n",
    "               'python3',  'python3',  'javascript', 'javascript', 'javascript',\n",
    "               'javascript', 'jruby', 'jruby', 'jruby', 'ghc', 'ghc',\n",
    "                'ghc', 'racket', 'racket', 'racket', 'java', 'java',\n",
    "                'scala', 'scala', 'php', 'php', 'php', 'ocaml',\n",
    "                'ocaml']"
   ]
  },
  {
   "cell_type": "code",
   "execution_count": 8,
   "metadata": {
    "collapsed": false
   },
   "outputs": [
    {
     "name": "stdout",
     "output_type": "stream",
     "text": [
      "0.7666666666666667\n"
     ]
    }
   ],
   "source": [
    "predictions = []\n",
    "count = 0\n",
    "num_correct = 0\n",
    "for n in list(range(1,25)) + list(range(28,32)):\n",
    "    type_count = {}\n",
    "    with open('test/{}'.format(n)) as f:\n",
    "        f = f.read()\n",
    "        predicter = pipeline.predict([f])\n",
    "        predictions.append(predicter)\n",
    "        if predicter == bryce_tests[count]:\n",
    "            num_correct += 1\n",
    "        count += 1\n",
    "print(num_correct/len(bryce_tests))"
   ]
  },
  {
   "cell_type": "code",
   "execution_count": 9,
   "metadata": {
    "collapsed": false
   },
   "outputs": [
    {
     "name": "stdout",
     "output_type": "stream",
     "text": [
      "0.7187039764359352\n"
     ]
    }
   ],
   "source": [
    "x_texts = []\n",
    "y_file_type = []\n",
    "\n",
    "\n",
    "file_types = ['gcc', 'c', 'csharp', 'sbcl', 'clojure', 'java', 'javascript', 'ocam', 'perl', 'hack', 'php', 'python3', 'jruby', 'yarv', 'scala', 'racket', 'ghc', 'cs']\n",
    "\n",
    "\n",
    "for ft in file_types:\n",
    "    try:\n",
    "        read_code('/Users/David/documents/tiy/programming-language-classifier/data/', ft)\n",
    "    except:\n",
    "        pass\n",
    "\n",
    "file_dict = dict(zip(x_texts, y_file_type))\n",
    "\n",
    "correct_count = 0\n",
    "for key, value in file_dict.items():\n",
    "    predicter = pipeline.predict([key])\n",
    "    if predicter == value:\n",
    "        correct_count += 1\n",
    "\n",
    "print(correct_count/len(file_dict))"
   ]
  },
  {
   "cell_type": "code",
   "execution_count": null,
   "metadata": {
    "collapsed": true
   },
   "outputs": [],
   "source": []
  }
 ],
 "metadata": {
  "kernelspec": {
   "display_name": "Python 3",
   "language": "python",
   "name": "python3"
  },
  "language_info": {
   "codemirror_mode": {
    "name": "ipython",
    "version": 3
   },
   "file_extension": ".py",
   "mimetype": "text/x-python",
   "name": "python",
   "nbconvert_exporter": "python",
   "pygments_lexer": "ipython3",
   "version": "3.5.1"
  }
 },
 "nbformat": 4,
 "nbformat_minor": 0
}
